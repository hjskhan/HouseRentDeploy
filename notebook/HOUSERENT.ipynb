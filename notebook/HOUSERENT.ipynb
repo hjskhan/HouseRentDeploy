{
 "cells": [
  {
   "cell_type": "code",
   "execution_count": 9,
   "id": "781a7d58",
   "metadata": {},
   "outputs": [
    {
     "data": {
      "text/html": [
       "<div>\n",
       "<style scoped>\n",
       "    .dataframe tbody tr th:only-of-type {\n",
       "        vertical-align: middle;\n",
       "    }\n",
       "\n",
       "    .dataframe tbody tr th {\n",
       "        vertical-align: top;\n",
       "    }\n",
       "\n",
       "    .dataframe thead th {\n",
       "        text-align: right;\n",
       "    }\n",
       "</style>\n",
       "<table border=\"1\" class=\"dataframe\">\n",
       "  <thead>\n",
       "    <tr style=\"text-align: right;\">\n",
       "      <th></th>\n",
       "      <th>Column Index</th>\n",
       "      <th>Name</th>\n",
       "      <th>Total Nan</th>\n",
       "      <th>Total Non-Nans</th>\n",
       "      <th>% Nan</th>\n",
       "    </tr>\n",
       "  </thead>\n",
       "  <tbody>\n",
       "    <tr>\n",
       "      <th>0</th>\n",
       "      <td>3</td>\n",
       "      <td>LotFrontage</td>\n",
       "      <td>259</td>\n",
       "      <td>1201</td>\n",
       "      <td>0.1774</td>\n",
       "    </tr>\n",
       "    <tr>\n",
       "      <th>1</th>\n",
       "      <td>6</td>\n",
       "      <td>Alley</td>\n",
       "      <td>1369</td>\n",
       "      <td>91</td>\n",
       "      <td>0.9377</td>\n",
       "    </tr>\n",
       "    <tr>\n",
       "      <th>2</th>\n",
       "      <td>25</td>\n",
       "      <td>MasVnrType</td>\n",
       "      <td>872</td>\n",
       "      <td>588</td>\n",
       "      <td>0.5973</td>\n",
       "    </tr>\n",
       "    <tr>\n",
       "      <th>3</th>\n",
       "      <td>26</td>\n",
       "      <td>MasVnrArea</td>\n",
       "      <td>8</td>\n",
       "      <td>1452</td>\n",
       "      <td>0.0055</td>\n",
       "    </tr>\n",
       "    <tr>\n",
       "      <th>4</th>\n",
       "      <td>30</td>\n",
       "      <td>BsmtQual</td>\n",
       "      <td>37</td>\n",
       "      <td>1423</td>\n",
       "      <td>0.0253</td>\n",
       "    </tr>\n",
       "    <tr>\n",
       "      <th>5</th>\n",
       "      <td>31</td>\n",
       "      <td>BsmtCond</td>\n",
       "      <td>37</td>\n",
       "      <td>1423</td>\n",
       "      <td>0.0253</td>\n",
       "    </tr>\n",
       "    <tr>\n",
       "      <th>6</th>\n",
       "      <td>32</td>\n",
       "      <td>BsmtExposure</td>\n",
       "      <td>38</td>\n",
       "      <td>1422</td>\n",
       "      <td>0.0260</td>\n",
       "    </tr>\n",
       "    <tr>\n",
       "      <th>7</th>\n",
       "      <td>33</td>\n",
       "      <td>BsmtFinType1</td>\n",
       "      <td>37</td>\n",
       "      <td>1423</td>\n",
       "      <td>0.0253</td>\n",
       "    </tr>\n",
       "    <tr>\n",
       "      <th>8</th>\n",
       "      <td>35</td>\n",
       "      <td>BsmtFinType2</td>\n",
       "      <td>38</td>\n",
       "      <td>1422</td>\n",
       "      <td>0.0260</td>\n",
       "    </tr>\n",
       "    <tr>\n",
       "      <th>9</th>\n",
       "      <td>42</td>\n",
       "      <td>Electrical</td>\n",
       "      <td>1</td>\n",
       "      <td>1459</td>\n",
       "      <td>0.0007</td>\n",
       "    </tr>\n",
       "    <tr>\n",
       "      <th>10</th>\n",
       "      <td>57</td>\n",
       "      <td>FireplaceQu</td>\n",
       "      <td>690</td>\n",
       "      <td>770</td>\n",
       "      <td>0.4726</td>\n",
       "    </tr>\n",
       "    <tr>\n",
       "      <th>11</th>\n",
       "      <td>58</td>\n",
       "      <td>GarageType</td>\n",
       "      <td>81</td>\n",
       "      <td>1379</td>\n",
       "      <td>0.0555</td>\n",
       "    </tr>\n",
       "    <tr>\n",
       "      <th>12</th>\n",
       "      <td>59</td>\n",
       "      <td>GarageYrBlt</td>\n",
       "      <td>81</td>\n",
       "      <td>1379</td>\n",
       "      <td>0.0555</td>\n",
       "    </tr>\n",
       "    <tr>\n",
       "      <th>13</th>\n",
       "      <td>60</td>\n",
       "      <td>GarageFinish</td>\n",
       "      <td>81</td>\n",
       "      <td>1379</td>\n",
       "      <td>0.0555</td>\n",
       "    </tr>\n",
       "    <tr>\n",
       "      <th>14</th>\n",
       "      <td>63</td>\n",
       "      <td>GarageQual</td>\n",
       "      <td>81</td>\n",
       "      <td>1379</td>\n",
       "      <td>0.0555</td>\n",
       "    </tr>\n",
       "    <tr>\n",
       "      <th>15</th>\n",
       "      <td>64</td>\n",
       "      <td>GarageCond</td>\n",
       "      <td>81</td>\n",
       "      <td>1379</td>\n",
       "      <td>0.0555</td>\n",
       "    </tr>\n",
       "    <tr>\n",
       "      <th>16</th>\n",
       "      <td>72</td>\n",
       "      <td>PoolQC</td>\n",
       "      <td>1453</td>\n",
       "      <td>7</td>\n",
       "      <td>0.9952</td>\n",
       "    </tr>\n",
       "    <tr>\n",
       "      <th>17</th>\n",
       "      <td>73</td>\n",
       "      <td>Fence</td>\n",
       "      <td>1179</td>\n",
       "      <td>281</td>\n",
       "      <td>0.8075</td>\n",
       "    </tr>\n",
       "    <tr>\n",
       "      <th>18</th>\n",
       "      <td>74</td>\n",
       "      <td>MiscFeature</td>\n",
       "      <td>1406</td>\n",
       "      <td>54</td>\n",
       "      <td>0.9630</td>\n",
       "    </tr>\n",
       "  </tbody>\n",
       "</table>\n",
       "</div>"
      ],
      "text/plain": [
       "    Column Index          Name  Total Nan  Total Non-Nans   % Nan\n",
       "0              3   LotFrontage        259            1201  0.1774\n",
       "1              6         Alley       1369              91  0.9377\n",
       "2             25    MasVnrType        872             588  0.5973\n",
       "3             26    MasVnrArea          8            1452  0.0055\n",
       "4             30      BsmtQual         37            1423  0.0253\n",
       "5             31      BsmtCond         37            1423  0.0253\n",
       "6             32  BsmtExposure         38            1422  0.0260\n",
       "7             33  BsmtFinType1         37            1423  0.0253\n",
       "8             35  BsmtFinType2         38            1422  0.0260\n",
       "9             42    Electrical          1            1459  0.0007\n",
       "10            57   FireplaceQu        690             770  0.4726\n",
       "11            58    GarageType         81            1379  0.0555\n",
       "12            59   GarageYrBlt         81            1379  0.0555\n",
       "13            60  GarageFinish         81            1379  0.0555\n",
       "14            63    GarageQual         81            1379  0.0555\n",
       "15            64    GarageCond         81            1379  0.0555\n",
       "16            72        PoolQC       1453               7  0.9952\n",
       "17            73         Fence       1179             281  0.8075\n",
       "18            74   MiscFeature       1406              54  0.9630"
      ]
     },
     "execution_count": 9,
     "metadata": {},
     "output_type": "execute_result"
    }
   ],
   "source": [
    "# House Rent\n",
    "# Training Data\n",
    "## Import Libraries\n",
    "import pandas as pd\n",
    "import numpy as np\n",
    "import seaborn as sns\n",
    "import matplotlib.pyplot as plt\n",
    "# Import Datasets\n",
    "train = pd.read_csv('data.csv')\n",
    "#renaming improper variable names\n",
    "train = train.rename(columns={'1stFlrSF':'firstFlrSF','2ndFlrSF':'scndFlrSF'})\n",
    "## EDA\n",
    "c=[] #Columns\n",
    "t=[] # Total NA\n",
    "i=[] # Col index\n",
    "p =[] # % Nans\n",
    "tn = [] # Total Non-Nans\n",
    "for j in range(train.shape[1]): # j : column index\n",
    "    tna = sum(train.iloc[:,j].isna()) # Total NAns\n",
    "    if tna>=1:\n",
    "        tNna = train.shape[0] - tna\n",
    "        name = train.columns[j] #Column Name\n",
    "        colna = round(tna/train.shape[0],4) # % NAn\n",
    "        c.append(name) # COlumn name\n",
    "        i.append(j) # Index\n",
    "        t.append(tna) # Tot. NAns\n",
    "        p.append(colna) # Percenatge of Nans\n",
    "        tn.append(tNna) # Tot. Non-Nans\n",
    "NAdf = pd.DataFrame({'Column Index':i,'Name':c,'Total Nan':t,'Total Non-Nans':tn,'% Nan':p})\n",
    "NAdf"
   ]
  },
  {
   "cell_type": "code",
   "execution_count": 10,
   "id": "c738efb5",
   "metadata": {},
   "outputs": [
    {
     "name": "stdout",
     "output_type": "stream",
     "text": [
      "No. of Discrete Variables: 18 \n",
      "No. of Cont. variables: 19\n"
     ]
    }
   ],
   "source": [
    "#From above we get to know the number of NAns in columns with percentage of missing values.\n",
    "## Numerical Data Type\n",
    "train_num = train.select_dtypes(include='number')\n",
    "train_num = train_num.drop('Id',axis=1)\n",
    "train_num.shape\n",
    "#### Discrete and continous datas\n",
    "disc=[]\n",
    "cont =[]\n",
    "for i in train_num.columns:\n",
    "    if train_num[i].nunique()<=25:\n",
    "        disc.append(i)\n",
    "    else:\n",
    "        cont.append(i)\n",
    "print('No. of Discrete Variables:',len(disc),'\\nNo. of Cont. variables:',len(cont))        \n",
    "train_disc = train.loc[:,disc]\n",
    "cont = [i for i in cont if i not in ['YearBuilt','YearRemodAdd','GarageYrBlt','SalePrice']]"
   ]
  },
  {
   "cell_type": "code",
   "execution_count": 11,
   "id": "f5a5541a",
   "metadata": {},
   "outputs": [
    {
     "data": {
      "text/plain": [
       "(1460, 43)"
      ]
     },
     "execution_count": 11,
     "metadata": {},
     "output_type": "execute_result"
    }
   ],
   "source": [
    "### Categorical Variables\n",
    "# Creating new Dataframe Train__Catagorical:\n",
    "train_cat = []\n",
    "for i in train.columns:\n",
    "    if np.dtype(train[i]) == 'object':\n",
    "        train_cat.append(train.loc[:,i])\n",
    "\n",
    "train_cat= pd.DataFrame(train_cat)\n",
    "train_cat= train_cat.T # Transpose\n",
    "train_cat.shape"
   ]
  },
  {
   "cell_type": "code",
   "execution_count": 12,
   "id": "b2260b9a",
   "metadata": {},
   "outputs": [
    {
     "name": "stdout",
     "output_type": "stream",
     "text": [
      "Index(['Alley', 'MasVnrType', 'BsmtQual', 'BsmtCond', 'BsmtExposure',\n",
      "       'BsmtFinType1', 'BsmtFinType2', 'Electrical', 'FireplaceQu',\n",
      "       'GarageType', 'GarageFinish', 'GarageQual', 'GarageCond', 'PoolQC',\n",
      "       'Fence', 'MiscFeature'],\n",
      "      dtype='object')\n"
     ]
    }
   ],
   "source": [
    "## Feature Engineering\n",
    "#### Filling NAns ofCategorical Varibales:\n",
    "train_cat_na = [i for i in train_cat.columns if train[i].isna().sum()>=1]\n",
    "train_cat_na = train[train_cat_na]\n",
    "print(train_cat_na.columns)"
   ]
  },
  {
   "cell_type": "code",
   "execution_count": 13,
   "id": "bdb8b7c8",
   "metadata": {},
   "outputs": [
    {
     "data": {
      "text/plain": [
       "0"
      ]
     },
     "execution_count": 13,
     "metadata": {},
     "output_type": "execute_result"
    }
   ],
   "source": [
    "#By looking at the Data Description we come to know about the Nans as:\n",
    "#1. Alley---- has Nan value as 'None'\n",
    "#2. MasVnrType---- has Nan value as 'None'\n",
    "#3. BsmtQual---- has Nan value as 'No Basement'-------\n",
    "#4. BsmtCond---- has Nan value as 'No Basement'-------\n",
    "#5. BsmtExposure---- has Nan value as 'No Basement'-------- Basement===='No Basement'\n",
    "#6. BsmtFinType1---- has Nan value as 'No Basement'-------\n",
    "#7. BsmtFinType2---- has Nan value as 'No Basement'------\n",
    "#8. Electrical---- has Nan value as modal value\n",
    "#9. FireplaceQu---- has Nan value as 'No Fireplace'\n",
    "#10. GarageType---- has Nan value as 'No Garage'----------\n",
    "#11. GarageFinish---- has Nan value as 'No Garage'-----------Garage======'No Garage'\n",
    "#12. GarageQual---- has Nan value as 'No Garage'---------\n",
    "#13. GarageCond---- has Nan value as 'No Garage'----------\n",
    "#14. PoolQC---- has Nan value as 'No Pool'\n",
    "#15. Fence---- has Nan value as 'No Fence'\n",
    "#16. MiscFeature---- has Nan value as 'None'\n",
    "\n",
    "#Therefore we got all the missing values for categorical variables\n",
    "\n",
    "# Getting rid of NAn Values:\n",
    "train['Alley'] = train['Alley'].fillna('None')\n",
    "train['MasVnrType'] = train['MasVnrType'].fillna('None')\n",
    "for i in ['BsmtQual','BsmtCond','BsmtExposure','BsmtFinType1','BsmtFinType2']:\n",
    "    train[i]= train[i].fillna('No Basement')\n",
    "train['Electrical'] = train['Electrical'].fillna(train['Electrical'].mode()[0])\n",
    "train['FireplaceQu'] = train['FireplaceQu'].fillna('No Fireplace')\n",
    "for i in ['GarageType','GarageFinish','GarageQual','GarageCond']:\n",
    "    train[i] = train[i].fillna('No Garage')\n",
    "train['PoolQC'] = train['PoolQC'].fillna('No Pool') \n",
    "train['Fence'] = train['Fence'].fillna('No Fence')\n",
    "train['MiscFeature'] = train['MiscFeature'].fillna('None')\n",
    "train[train_cat.columns].isna().sum().sum()\n",
    "#Therefore, till now we fixed Nans for Categorical Variables."
   ]
  },
  {
   "cell_type": "code",
   "execution_count": 14,
   "id": "6325155b",
   "metadata": {},
   "outputs": [],
   "source": [
    "##### Seperating Ordinal and Nominal from Categorical variables:\n",
    "#First, of all we will sepearate the nominal data and ordinal data.\n",
    "# Ordinal Data\n",
    "train_ord = train[['LotShape','LandSlope','ExterQual','ExterCond','BsmtQual','BsmtCond',\n",
    "                   'BsmtExposure','BsmtFinType1','BsmtFinType2','HeatingQC','KitchenQual',\n",
    "                   'Functional','FireplaceQu','GarageFinish','GarageQual','GarageCond','PavedDrive',\n",
    "                   'PoolQC','Fence','CentralAir','MSZoning','Utilities','LandContour','Alley',\n",
    "                   'LotConfig','Condition1','Condition2','Foundation','Electrical']]\n",
    "# Nominal Data\n",
    "train_nom = [col for col in train_cat.columns if col not in train_ord.columns]\n",
    "train_nom = train[train_nom]"
   ]
  },
  {
   "cell_type": "code",
   "execution_count": 15,
   "id": "6a489f17",
   "metadata": {},
   "outputs": [],
   "source": [
    "##### Encoding Ordinal Data\n",
    "train_ord_enc = train[['LotShape','LandSlope','ExterQual','ExterCond',\n",
    "                        'HeatingQC','KitchenQual',\n",
    "                        'BsmtQual','BsmtCond','BsmtExposure','BsmtFinType1','BsmtFinType2',\n",
    "                        'CentralAir','Functional','GarageFinish','PavedDrive','PoolQC','Fence',\n",
    "                       'FireplaceQu','GarageQual','GarageCond','MSZoning','Utilities','LandContour',\n",
    "                       'Alley','LotConfig','Condition1','Condition2','Foundation','Electrical']]\n",
    "\n",
    "\n",
    "# Encoding Ordinal Data\n",
    "from sklearn.preprocessing import OrdinalEncoder\n",
    "## First creating a map for different ordinal data:\n",
    "ord1 = ['IR3','IR2','IR1','Reg'] #LotShape\n",
    "ord2 = ['Gtl','Mod','Sev'] #LandSlope\n",
    "ord3 = ['Po','Fa','TA','Gd','Ex'] #ExterQual,ExterCond,HeatingQC,KitchenQual\n",
    "ord4 = ['No Basement','Po','Fa','TA','Gd','Ex'] #BsmtQual,BsmtCond,\n",
    "ord5 = ['No Basement','No','Mn','Av','Gd'] #BsmtExposure\n",
    "ord6 = ['No Basement','Unf','LwQ','Rec','BLQ','ALQ','GLQ'] #BsmtFinType1,BsmtFinType2\n",
    "ord7 = ['N','Y'] #CentralAir\n",
    "ord8 = ['Sal','Sev','Maj2','Maj1','Mod','Min2','Min1','Typ'] #Functional\n",
    "ord9 = ['No Garage','Unf','RFn','Fin'] #GarageFinish\n",
    "ord10 = ['N','P','Y'] #PavedDrive\n",
    "ord11 = ['No Pool','Fa','TA','Gd','Ex'] #PoolQC\n",
    "ord12 = ['No Fence','MnWw','GdWo','MnPrv','GdPrv'] #Fence\n",
    "ord13 = ['No Fireplace','Po','Fa','TA','Gd','Ex'] #FireplaceQu\n",
    "ord14 = ['No Garage','Po','Fa','TA','Gd','Ex'] #GarageQual,GarageCond\n",
    "ord15 = ['FV','A','RL','RP','RM','RH','I','C (all)']\n",
    "ord16 = ['ELO','NoSeWa','NoSewr','AllPub']\n",
    "ord17 = ['Low','HLS','Bnk','Lvl']\n",
    "ord18 = ['None','Grvl','Pave']\n",
    "ord19 = ['CulDSac','Corner','Inside','FR2','FR3']\n",
    "ord20 = ['Norm','Artery','Feedr','PosN','PosA','RRAn','RRAe','RRNe','RRNn']\n",
    "ord21 = ['Slab','Wood','BrkTil','CBlock','PConc','Stone']\n",
    "ord22 = ['FuseP','FuseA','FuseF','Mix','SBrkr']\n",
    "# Creating Categories\n",
    "categories = [ord1,ord2,ord3,ord3,ord3,ord3,ord4,ord4,ord5,ord6,ord6,ord7,ord8,ord9,\n",
    "             ord10,ord11,ord12,ord13,ord14,ord14,ord15,ord16,ord17,ord18,ord19,\n",
    "             ord20,ord20,ord21,ord22]\n",
    "# Setting up OrdinalEncoder\n",
    "ordenc = OrdinalEncoder(categories=categories)\n",
    "ord_enc = ordenc.fit_transform(train_ord_enc)\n",
    "train_ord_enc = pd.DataFrame(ord_enc,columns=train_ord_enc.columns)\n",
    "#train_ord_enc = train_ord_enc.stack().reset_index(drop=True)\n",
    "#train_ord_enc.head(2)\n",
    "for i in train_ord_enc.columns:\n",
    "    train[i] = train_ord_enc[i].values"
   ]
  },
  {
   "cell_type": "code",
   "execution_count": 16,
   "id": "b7346c0f",
   "metadata": {
    "scrolled": false
   },
   "outputs": [
    {
     "data": {
      "text/html": [
       "<div>\n",
       "<style scoped>\n",
       "    .dataframe tbody tr th:only-of-type {\n",
       "        vertical-align: middle;\n",
       "    }\n",
       "\n",
       "    .dataframe tbody tr th {\n",
       "        vertical-align: top;\n",
       "    }\n",
       "\n",
       "    .dataframe thead th {\n",
       "        text-align: right;\n",
       "    }\n",
       "</style>\n",
       "<table border=\"1\" class=\"dataframe\">\n",
       "  <thead>\n",
       "    <tr style=\"text-align: right;\">\n",
       "      <th></th>\n",
       "      <th>Id</th>\n",
       "      <th>MSSubClass</th>\n",
       "      <th>MSZoning</th>\n",
       "      <th>LotFrontage</th>\n",
       "      <th>LotArea</th>\n",
       "      <th>Street</th>\n",
       "      <th>Alley</th>\n",
       "      <th>LotShape</th>\n",
       "      <th>LandContour</th>\n",
       "      <th>Utilities</th>\n",
       "      <th>...</th>\n",
       "      <th>PoolArea</th>\n",
       "      <th>PoolQC</th>\n",
       "      <th>Fence</th>\n",
       "      <th>MiscFeature</th>\n",
       "      <th>MiscVal</th>\n",
       "      <th>MoSold</th>\n",
       "      <th>YrSold</th>\n",
       "      <th>SaleType</th>\n",
       "      <th>SaleCondition</th>\n",
       "      <th>SalePrice</th>\n",
       "    </tr>\n",
       "  </thead>\n",
       "  <tbody>\n",
       "    <tr>\n",
       "      <th>0</th>\n",
       "      <td>1</td>\n",
       "      <td>60</td>\n",
       "      <td>2.0</td>\n",
       "      <td>65.0</td>\n",
       "      <td>8450</td>\n",
       "      <td>1</td>\n",
       "      <td>0.0</td>\n",
       "      <td>3.0</td>\n",
       "      <td>3.0</td>\n",
       "      <td>3.0</td>\n",
       "      <td>...</td>\n",
       "      <td>0</td>\n",
       "      <td>0.0</td>\n",
       "      <td>0.0</td>\n",
       "      <td>1</td>\n",
       "      <td>0</td>\n",
       "      <td>2</td>\n",
       "      <td>2008</td>\n",
       "      <td>8</td>\n",
       "      <td>4</td>\n",
       "      <td>208500</td>\n",
       "    </tr>\n",
       "    <tr>\n",
       "      <th>1</th>\n",
       "      <td>2</td>\n",
       "      <td>20</td>\n",
       "      <td>2.0</td>\n",
       "      <td>80.0</td>\n",
       "      <td>9600</td>\n",
       "      <td>1</td>\n",
       "      <td>0.0</td>\n",
       "      <td>3.0</td>\n",
       "      <td>3.0</td>\n",
       "      <td>3.0</td>\n",
       "      <td>...</td>\n",
       "      <td>0</td>\n",
       "      <td>0.0</td>\n",
       "      <td>0.0</td>\n",
       "      <td>1</td>\n",
       "      <td>0</td>\n",
       "      <td>5</td>\n",
       "      <td>2007</td>\n",
       "      <td>8</td>\n",
       "      <td>4</td>\n",
       "      <td>181500</td>\n",
       "    </tr>\n",
       "  </tbody>\n",
       "</table>\n",
       "<p>2 rows × 81 columns</p>\n",
       "</div>"
      ],
      "text/plain": [
       "   Id  MSSubClass  MSZoning  LotFrontage  LotArea  Street  Alley  LotShape  \\\n",
       "0   1          60       2.0         65.0     8450       1    0.0       3.0   \n",
       "1   2          20       2.0         80.0     9600       1    0.0       3.0   \n",
       "\n",
       "   LandContour  Utilities  ...  PoolArea  PoolQC  Fence  MiscFeature  MiscVal  \\\n",
       "0          3.0        3.0  ...         0     0.0    0.0            1        0   \n",
       "1          3.0        3.0  ...         0     0.0    0.0            1        0   \n",
       "\n",
       "   MoSold  YrSold  SaleType  SaleCondition  SalePrice  \n",
       "0       2    2008         8              4     208500  \n",
       "1       5    2007         8              4     181500  \n",
       "\n",
       "[2 rows x 81 columns]"
      ]
     },
     "execution_count": 16,
     "metadata": {},
     "output_type": "execute_result"
    }
   ],
   "source": [
    "##### Encoding Nominal Data:\n",
    "\n",
    "# Creating DF of Nominal Data:\n",
    "train_nom_enc = [i for i in train_cat.columns if i not in train_ord_enc]\n",
    "train_nom_enc = train[train_nom_enc]\n",
    "# Encoding the Nominal Data\n",
    "from sklearn.preprocessing import LabelEncoder\n",
    "le = LabelEncoder()\n",
    "train_nom_enc = train_nom_enc.apply(le.fit_transform)\n",
    "for i in train_nom_enc.columns:\n",
    "    train[i] = train_nom_enc[i].values\n",
    "# Finally we get the required Categorically encoded Dataframe but with Nans of Numerical Datas\n",
    "train.head(2)"
   ]
  },
  {
   "cell_type": "markdown",
   "id": "ea2b9e33",
   "metadata": {},
   "source": [
    "##### Since now we may use transformations for data.\n",
    "##### Therefore, dividing data in two :train, testing"
   ]
  },
  {
   "cell_type": "code",
   "execution_count": 17,
   "id": "8e5498f7",
   "metadata": {},
   "outputs": [],
   "source": [
    "testing = train.sample(frac=0.2,random_state=1)\n",
    "train = train.drop(testing.index)"
   ]
  },
  {
   "cell_type": "code",
   "execution_count": 18,
   "id": "65e6527b",
   "metadata": {},
   "outputs": [
    {
     "name": "stdout",
     "output_type": "stream",
     "text": [
      "0\n"
     ]
    }
   ],
   "source": [
    "SP_test = testing['SalePrice']\n",
    "# Selecting continous columns\n",
    "continuous_cols = train.select_dtypes(include=['float64', 'int64']).columns\n",
    "# Fill NaN values with the mode in continuous columns\n",
    "for i in continuous_cols:\n",
    "    mode = train[i].mode()[0]\n",
    "    train[i] = train[i].fillna(value=mode)\n",
    "\n",
    "print(train.isna().sum().sum())"
   ]
  },
  {
   "cell_type": "code",
   "execution_count": 19,
   "id": "bd6ab08e",
   "metadata": {
    "scrolled": true
   },
   "outputs": [
    {
     "name": "stdout",
     "output_type": "stream",
     "text": [
      "34900 755000\n"
     ]
    }
   ],
   "source": [
    "#### Data Transformation/ Standardization\n",
    "# First we drop ID from data\n",
    "train.drop(['Id'],axis=1,inplace=True)\n",
    "##### Log Transformation\n",
    "max_target = train['SalePrice'].max()\n",
    "min_target = train['SalePrice'].min()\n",
    "print(min_target, max_target)"
   ]
  },
  {
   "cell_type": "code",
   "execution_count": null,
   "id": "814c43a0",
   "metadata": {},
   "outputs": [],
   "source": [
    "\n",
    "train[cont] = np.log1p(train[cont])\n",
    "train['SalePrice'] = np.log1p(train['SalePrice'])\n",
    "min_SP_train = train['SalePrice'].min()\n",
    "max_SP_train = train['SalePrice'].max()\n",
    "##### Standard Scaler Transformation:\n",
    "min_val_train,max_val_train = [],[]\n",
    "# MinMaxScaler:\n",
    "for column in train.columns:\n",
    "    min_val = train[column].min()\n",
    "    min_val_train.append(min_val)\n",
    "    max_val = train[column].max()\n",
    "    max_val_train.append(max_val)\n",
    "    train[column] = ((train[column] - min_val) / (max_val - min_val))\n",
    "\n",
    "#We have log trasformed,scaled and encoded the Data \n",
    "min_max_train = pd.DataFrame({'min':min_val_train,'max':max_val_train}).transpose()\n",
    "min_max_train.columns = train.columns\n",
    "min_max_train.index = ['min','max']"
   ]
  },
  {
   "cell_type": "code",
   "execution_count": 168,
   "id": "bf147099",
   "metadata": {},
   "outputs": [
    {
     "name": "stdout",
     "output_type": "stream",
     "text": [
      "0\n"
     ]
    }
   ],
   "source": [
    "continuous_cols = testing.select_dtypes(include=['float64', 'int64']).columns\n",
    "# Find the mode of each continuous column\n",
    "for i in continuous_cols:\n",
    "    mode = testing[i].mode()[0]\n",
    "    testing[i] = testing[i].fillna(value=mode)\n",
    "print(testing.isna().sum().sum())\n",
    "\n",
    "#### Data Transformation/ Standardization\n",
    "\n",
    "# First we drop ID and SalePrice from data\n",
    "testing.drop(['Id'],axis=1,inplace=True)\n",
    "\n",
    "#### Imputung Nans Numerical Variables\n",
    "##### Log Transformation\n",
    "testing[cont] = np.log1p(testing[cont])\n",
    "testing['SalePrice'] = np.log1p(testing['SalePrice'])\n",
    "#testing = np.log1p(testing)\n",
    "min_SP_testing = testing['SalePrice'].min()\n",
    "max_SP_testing = testing['SalePrice'].max()\n",
    "##### Standard Scaler Transformation:\n",
    "min_val_testing,max_val_testing = [],[]\n",
    "# MinMaxScaler:\n",
    "for column in testing.columns:\n",
    "    min_val = testing[column].min()\n",
    "    min_val_testing.append(min_val)\n",
    "    max_val = testing[column].max()\n",
    "    max_val_testing.append(max_val)\n",
    "    testing[column] = ((testing[column] - min_val) / (max_val - min_val))\n",
    "\n",
    "\n",
    "#We have log trasformed,scaled and encoded the Data "
   ]
  },
  {
   "cell_type": "code",
   "execution_count": 169,
   "id": "9bd29ef8",
   "metadata": {
    "scrolled": true
   },
   "outputs": [],
   "source": [
    "# Saving maximum and minimum value of each variable for future transformation\n",
    "min_max_testing = pd.DataFrame({'min':min_val_testing,'max':max_val_testing}).transpose()\n",
    "min_max_testing.columns = testing.columns\n",
    "min_max_testing.index = ['min','max']"
   ]
  },
  {
   "cell_type": "code",
   "execution_count": 170,
   "id": "c52bb963",
   "metadata": {},
   "outputs": [],
   "source": [
    "### Feature Selection\n",
    "y_target = train['SalePrice'] #target Variable\n",
    "y_testing = testing['SalePrice']\n",
    "train.drop('SalePrice',axis=1,inplace=True)\n",
    "testing.drop('SalePrice',axis=1,inplace=True)"
   ]
  },
  {
   "cell_type": "code",
   "execution_count": 171,
   "id": "bf14229c",
   "metadata": {},
   "outputs": [
    {
     "data": {
      "text/plain": [
       "(292, 79)"
      ]
     },
     "execution_count": 171,
     "metadata": {},
     "output_type": "execute_result"
    }
   ],
   "source": [
    "testing.shape"
   ]
  },
  {
   "cell_type": "markdown",
   "id": "b4d80c63",
   "metadata": {},
   "source": [
    "##### Feature Selection"
   ]
  },
  {
   "cell_type": "code",
   "execution_count": 172,
   "id": "01bccb39",
   "metadata": {},
   "outputs": [
    {
     "name": "stdout",
     "output_type": "stream",
     "text": [
      "['OverallQual', 'GrLivArea', 'GarageCars', 'firstFlrSF', 'TotalBsmtSF', 'GarageArea', 'YearBuilt', 'BsmtFinSF1', 'LotArea', 'GarageType']\n"
     ]
    }
   ],
   "source": [
    "##### RandomForestRegressor:\n",
    "from sklearn.ensemble import RandomForestRegressor\n",
    "model = RandomForestRegressor(random_state=1,max_depth= 7, min_samples_split=5,\n",
    "                              min_samples_leaf= 2, n_estimators=200)\n",
    "model.fit(train,y_target)\n",
    "importances = model.feature_importances_\n",
    "feature = pd.Series(importances, index=train.columns).sort_values(ascending=False).head(10).index.tolist()\n",
    "print(feature)"
   ]
  },
  {
   "cell_type": "code",
   "execution_count": 173,
   "id": "1bd4f5dd",
   "metadata": {},
   "outputs": [
    {
     "data": {
      "text/html": [
       "<div>\n",
       "<style scoped>\n",
       "    .dataframe tbody tr th:only-of-type {\n",
       "        vertical-align: middle;\n",
       "    }\n",
       "\n",
       "    .dataframe tbody tr th {\n",
       "        vertical-align: top;\n",
       "    }\n",
       "\n",
       "    .dataframe thead th {\n",
       "        text-align: right;\n",
       "    }\n",
       "</style>\n",
       "<table border=\"1\" class=\"dataframe\">\n",
       "  <thead>\n",
       "    <tr style=\"text-align: right;\">\n",
       "      <th></th>\n",
       "      <th>OverallQual</th>\n",
       "      <th>GrLivArea</th>\n",
       "      <th>GarageCars</th>\n",
       "      <th>firstFlrSF</th>\n",
       "      <th>TotalBsmtSF</th>\n",
       "      <th>GarageArea</th>\n",
       "      <th>YearBuilt</th>\n",
       "      <th>BsmtFinSF1</th>\n",
       "      <th>LotArea</th>\n",
       "      <th>GarageType</th>\n",
       "    </tr>\n",
       "  </thead>\n",
       "  <tbody>\n",
       "    <tr>\n",
       "      <th>0</th>\n",
       "      <td>0.666667</td>\n",
       "      <td>0.577436</td>\n",
       "      <td>0.5</td>\n",
       "      <td>0.355839</td>\n",
       "      <td>0.774668</td>\n",
       "      <td>0.869159</td>\n",
       "      <td>0.949275</td>\n",
       "      <td>0.759508</td>\n",
       "      <td>0.366271</td>\n",
       "      <td>0.166667</td>\n",
       "    </tr>\n",
       "    <tr>\n",
       "      <th>1</th>\n",
       "      <td>0.555556</td>\n",
       "      <td>0.469935</td>\n",
       "      <td>0.5</td>\n",
       "      <td>0.502753</td>\n",
       "      <td>0.819153</td>\n",
       "      <td>0.845088</td>\n",
       "      <td>0.753623</td>\n",
       "      <td>0.797188</td>\n",
       "      <td>0.391245</td>\n",
       "      <td>0.166667</td>\n",
       "    </tr>\n",
       "  </tbody>\n",
       "</table>\n",
       "</div>"
      ],
      "text/plain": [
       "   OverallQual  GrLivArea  GarageCars  firstFlrSF  TotalBsmtSF  GarageArea  \\\n",
       "0     0.666667   0.577436         0.5    0.355839     0.774668    0.869159   \n",
       "1     0.555556   0.469935         0.5    0.502753     0.819153    0.845088   \n",
       "\n",
       "   YearBuilt  BsmtFinSF1   LotArea  GarageType  \n",
       "0   0.949275    0.759508  0.366271    0.166667  \n",
       "1   0.753623    0.797188  0.391245    0.166667  "
      ]
     },
     "execution_count": 173,
     "metadata": {},
     "output_type": "execute_result"
    }
   ],
   "source": [
    "train_FINAL = train[feature]\n",
    "testing = testing[train_FINAL.columns]\n",
    "train_FINAL.head(2)"
   ]
  },
  {
   "cell_type": "code",
   "execution_count": 174,
   "id": "8edf8e7e",
   "metadata": {},
   "outputs": [
    {
     "name": "stdout",
     "output_type": "stream",
     "text": [
      "LinearRegression()\n",
      "DecisionTreeRegressor(max_depth=5, min_samples_leaf=4, min_samples_split=4)\n",
      "ElasticNet(alpha=0.0001)\n",
      "RandomForestRegressor(n_estimators=10, random_state=1)\n",
      "SVR()\n",
      "GradientBoostingRegressor(random_state=1)\n",
      "               Model      RMSE  Accuracy  Avg CV RMSE  Avg CV Score  R2 Score\n",
      "0  Linear Regression  0.050253  0.859661     0.049886      0.832256  0.825506\n",
      "1     Descision Tree  0.068119  0.859661     0.063892      0.734182  0.684550\n",
      "2        Elastic Net  0.050376  0.859661     0.049887      0.832582  0.822761\n",
      "3      Random Forest  0.055909  0.859661     0.054023      0.805425  0.773473\n",
      "4                SVM  0.055687  0.859661     0.055574      0.797748  0.796612\n",
      "5                GBR  0.050597  0.859661     0.051268      0.821771  0.828957\n"
     ]
    }
   ],
   "source": [
    "## Model Fitting:\n",
    "\n",
    "### Train and Validation Set:\n",
    "\n",
    "from sklearn.model_selection import train_test_split\n",
    "from sklearn.model_selection import StratifiedKFold, cross_val_score\n",
    "from sklearn.metrics import mean_squared_error,r2_score\n",
    "from sklearn.linear_model import LinearRegression,ElasticNet\n",
    "from sklearn.tree import DecisionTreeRegressor\n",
    "from sklearn.svm import SVR\n",
    "from sklearn.ensemble import RandomForestRegressor\n",
    "from sklearn.ensemble import GradientBoostingRegressor\n",
    "import catboost as cb\n",
    "import logging# Set the logging level to WARNING or higher\n",
    "logging.getLogger(\"catboost\").setLevel(logging.WARNING)\n",
    "\n",
    "X_train,X_test,y_train,y_test = train_test_split(train_FINAL,y_target,test_size=0.2,random_state=0)\n",
    "\n",
    "svr = SVR(kernel='rbf')\n",
    "rndReg = RandomForestRegressor(n_estimators=10,random_state=1)\n",
    "elNet = ElasticNet(alpha=0.0001,l1_ratio=0.5)\n",
    "dTree = DecisionTreeRegressor(max_depth=5,min_samples_split=4,min_samples_leaf=4)\n",
    "lin_reg = LinearRegression()\n",
    "model_GBR =  GradientBoostingRegressor(random_state=1)\n",
    "model_list,rmse,acc,R2Score,AvgCVScore,AvgCVRMSE = [],[],[],[],[],[]\n",
    "models =[lin_reg,dTree,elNet,rndReg,svr,model_GBR]\n",
    "for model in models:\n",
    "    print(model)\n",
    "    model_list.append(model.fit(X_train,y_train))\n",
    "    model1 = model.fit(X_train,y_train)\n",
    "    y_predict = model.predict(X_test)\n",
    "    rmse.append(np.sqrt(mean_squared_error(y_test,y_predict)))\n",
    "    acc.append(lin_reg.score(X_test,y_test))\n",
    "    R2Score.append(r2_score(y_predict,y_test))\n",
    "    #10-fold Cross Validation\n",
    "    scores = cross_val_score(model1,X_train, y_train, scoring='r2', cv = 10)\n",
    "    AvgCVScore.append(scores.mean())\n",
    "    AvgCVRMSE.append(np.sqrt(-cross_val_score(model1,X_train, y_train,\n",
    "                                      scoring='neg_mean_squared_error', cv = 10)).mean())\n",
    "\n",
    "model_score = pd.DataFrame({'Model':['Linear Regression','Descision Tree','Elastic Net',\n",
    "                                     'Random Forest','SVM','GBR'],\n",
    "                            'RMSE':rmse,'Accuracy':acc,'Avg CV RMSE':AvgCVRMSE,\n",
    "                            'Avg CV Score': AvgCVScore,'R2 Score':R2Score})\n",
    "print(model_score)"
   ]
  },
  {
   "cell_type": "code",
   "execution_count": 175,
   "id": "8ad8984c",
   "metadata": {},
   "outputs": [
    {
     "name": "stdout",
     "output_type": "stream",
     "text": [
      "               Model      RMSE  Accuracy   R2Score\n",
      "0  Linear Regression  0.051764  0.867957  0.858091\n",
      "1     Descision Tree  0.080947  0.677105  0.661483\n",
      "2        Elastic Net  0.051733  0.868111  0.856809\n",
      "3      Random Forest  0.070694  0.753717  0.741020\n",
      "4                SVM  0.060271  0.820986  0.786610\n",
      "5                GBR  0.061317  0.814718  0.775778\n"
     ]
    },
    {
     "data": {
      "image/png": "[encoded data removed]",
      "text/plain": [
       "<Figure size 720x360 with 1 Axes>"
      ]
     },
     "metadata": {
      "needs_background": "light"
     },
     "output_type": "display_data"
    }
   ],
   "source": [
    "#### Testing the model\n",
    "rmse,acc,R2Score= [],[],[]\n",
    "models =[lin_reg,dTree,elNet,rndReg,svr,model_GBR]\n",
    "for model in model_list:\n",
    "    y_predict = model.predict(testing)\n",
    "    rmse.append(np.sqrt(mean_squared_error(y_testing,y_predict)))\n",
    "    acc.append(model.score(testing,y_testing))\n",
    "    R2Score.append(r2_score(y_predict,y_testing))\n",
    "\n",
    "model_score = pd.DataFrame({'Model':['Linear Regression','Descision Tree','Elastic Net',\n",
    "                                     'Random Forest','SVM','GBR'],\n",
    "                            'RMSE':rmse,\n",
    "                            'Accuracy':acc,\n",
    "                            'R2Score':R2Score\n",
    "                           })\n",
    "print(model_score)\n",
    "\n",
    "# Set the Model column as the index\n",
    "model_score.set_index('Model', inplace=True)\n",
    "plt.figure(figsize=(10,5))\n",
    "plt.rcParams.update({'font.size': 12})\n",
    "sns.lineplot(data=model_score,dashes=False,linewidth=1.75 ,markers=True)\n",
    "plt.title('Model Scores')\n",
    "plt.xlabel('Models')\n",
    "plt.ylabel('Scores')\n",
    "plt.xticks(rotation=45)\n",
    "plt.legend(loc='best', prop={'size': 10})\n",
    "plt.grid(True)\n",
    "plt.show()"
   ]
  },
  {
   "cell_type": "markdown",
   "id": "5bf170d7",
   "metadata": {},
   "source": [
    "#### Hyperparameter tuning"
   ]
  },
  {
   "cell_type": "code",
   "execution_count": 176,
   "id": "bae82a81",
   "metadata": {},
   "outputs": [
    {
     "name": "stdout",
     "output_type": "stream",
     "text": [
      "Best Hyperparameters:  {'C': 100, 'gamma': 0.001, 'kernel': 'rbf'}\n",
      "Best MSE:  nan\n"
     ]
    },
    {
     "name": "stderr",
     "output_type": "stream",
     "text": [
      "C:\\Users\\HP\\AppData\\Local\\Temp\\ipykernel_14080\\3665299412.py:24: RuntimeWarning: invalid value encountered in sqrt\n",
      "  print(\"Best MSE: \", np.sqrt(grid_search.best_score_))\n"
     ]
    }
   ],
   "source": [
    "import numpy as np\n",
    "import pandas as pd\n",
    "from sklearn import svm, datasets\n",
    "from sklearn.model_selection import GridSearchCV\n",
    "from sklearn.metrics import mean_squared_error, make_scorer\n",
    "\n",
    "# Define the parameter grid to search over\n",
    "param_grid = {\n",
    "    'C': [0.1, 1, 10, 100],\n",
    "    'gamma': [0.1, 0.01, 0.001],\n",
    "    'kernel': ['linear', 'rbf']\n",
    "}\n",
    "# Create an SVM regressor\n",
    "svm_model = svm.SVR()\n",
    "\n",
    "# Define the mean squared error scorer\n",
    "scorer = make_scorer(mean_squared_error, greater_is_better=False)\n",
    "\n",
    "# Perform grid search using cross-validation and the MSE scorer\n",
    "grid_search = GridSearchCV(svm_model, param_grid, cv=5, scoring=scorer)\n",
    "grid_search.fit(train_FINAL, y_target)\n",
    "# Print the best hyperparameters and the corresponding MSE value\n",
    "print(\"Best Hyperparameters: \", grid_search.best_params_)\n",
    "print(\"Best MSE: \", np.sqrt(grid_search.best_score_))"
   ]
  },
  {
   "cell_type": "code",
   "execution_count": 177,
   "id": "4d4fd05f",
   "metadata": {},
   "outputs": [
    {
     "name": "stdout",
     "output_type": "stream",
     "text": [
      "RMSE on test data after HyperParameter tuning:  0.05163013985577475\n",
      "Accuracy on test data after HyperParameter tuning:  0.86863755790483\n"
     ]
    }
   ],
   "source": [
    "# Fitting the model on test data [testing] after HyperParameter Tuning:\n",
    "model = SVR(C=100,gamma=0.001,kernel='rbf',epsilon=0)\n",
    "model.fit(X_train,y_train)\n",
    "y_predict = model.predict(testing)\n",
    "print('RMSE on test data after HyperParameter tuning: ',np.sqrt(mean_squared_error(y_testing,y_predict)))\n",
    "print('Accuracy on test data after HyperParameter tuning: ',model.score(testing,y_testing))"
   ]
  },
  {
   "cell_type": "code",
   "execution_count": 178,
   "id": "edbf80ae",
   "metadata": {
    "scrolled": true
   },
   "outputs": [
    {
     "name": "stdout",
     "output_type": "stream",
     "text": [
      "RMSE: 25177.654205522023\n",
      "RMSE Normalized: 0.03496410804821833\n",
      "Avg:  8804.11 \n",
      "Max:  142410.61 \n",
      "Min:  -64645.4\n"
     ]
    }
   ],
   "source": [
    "y_predict_inverse= np.exp((y_predict*(max_SP_train-min_SP_train))+min_SP_train)\n",
    "rmse = np.sqrt(mean_squared_error(SP_test, y_predict_inverse))\n",
    "x = max_target - min_target\n",
    "rmse_norm = rmse/x\n",
    "print(\"RMSE:\", rmse)\n",
    "print('RMSE Normalized:', rmse_norm)\n",
    "y_diff = SP_test-y_predict_inverse\n",
    "print('Avg: ',round(y_diff.mean(),2),'\\nMax: ',round(y_diff.max(),2),'\\nMin: ',round(y_diff.min(),2))"
   ]
  },
  {
   "cell_type": "code",
   "execution_count": 179,
   "id": "2df31172",
   "metadata": {},
   "outputs": [
    {
     "data": {
      "image/png": "[encoded data removed]",
      "text/plain": [
       "<Figure size 1080x720 with 4 Axes>"
      ]
     },
     "metadata": {
      "needs_background": "light"
     },
     "output_type": "display_data"
    }
   ],
   "source": [
    "import seaborn as sns\n",
    "import matplotlib.pyplot as plt\n",
    "\n",
    "# Assuming you have predicted and original values stored in separate lists or arrays\n",
    "predicted_values = y_predict_inverse\n",
    "original_values = SP_test\n",
    "\n",
    "# Create a figure with a single set of axes\n",
    "fig, axes = plt.subplots(2, 2, figsize=(15, 10))\n",
    "\n",
    "# Plot 1: Line plot\n",
    "axes[0, 0].plot(range(len(original_values)), original_values, label='Original Values')\n",
    "axes[0, 0].plot(range(len(predicted_values)), predicted_values, label='Predicted Values')\n",
    "axes[0, 0].set_xlabel('Index')\n",
    "axes[0, 0].set_ylabel('Values')\n",
    "axes[0, 0].legend()\n",
    "\n",
    "# Plot 2: Scatter plot\n",
    "sns.scatterplot(x=original_values, y=predicted_values, ax=axes[0, 1])\n",
    "axes[0, 1].set_xlabel('Original Values')\n",
    "axes[0, 1].set_ylabel('Predicted Values')\n",
    "axes[0, 1].plot([min(original_values), max(original_values)], [min(original_values), max(original_values)], color='red')\n",
    "\n",
    "# Plot 3: Histograms\n",
    "sns.histplot(original_values, ax=axes[1, 0], label='Original Values', color='red', kde=True)\n",
    "sns.histplot(predicted_values, ax=axes[1, 0], label='Predicted Values', kde=True)\n",
    "axes[1, 0].set_xlabel('Values')\n",
    "axes[1, 0].set_ylabel('Frequency')\n",
    "axes[1, 0].legend()\n",
    "\n",
    "# Plot 4: Difference histogram\n",
    "sns.histplot(y_diff, ax=axes[1, 1], kde=True)\n",
    "axes[1, 1].set_xlabel('Difference')\n",
    "axes[1, 1].set_ylabel('Frequency')\n",
    "\n",
    "# Adjust spacing between subplots\n",
    "plt.tight_layout()\n",
    "\n",
    "# Display the plots\n",
    "plt.show()\n"
   ]
  },
  {
   "cell_type": "code",
   "execution_count": 180,
   "id": "37f05eae",
   "metadata": {},
   "outputs": [
    {
     "data": {
      "text/plain": [
       "Index(['OverallQual', 'GrLivArea', 'GarageCars', 'firstFlrSF', 'TotalBsmtSF',\n",
       "       'GarageArea', 'YearBuilt', 'BsmtFinSF1', 'LotArea', 'GarageType'],\n",
       "      dtype='object')"
      ]
     },
     "execution_count": 180,
     "metadata": {},
     "output_type": "execute_result"
    }
   ],
   "source": [
    "X_train.columns"
   ]
  },
  {
   "cell_type": "code",
   "execution_count": 181,
   "id": "c448f1e5",
   "metadata": {},
   "outputs": [
    {
     "data": {
      "text/html": [
       "<div>\n",
       "<style scoped>\n",
       "    .dataframe tbody tr th:only-of-type {\n",
       "        vertical-align: middle;\n",
       "    }\n",
       "\n",
       "    .dataframe tbody tr th {\n",
       "        vertical-align: top;\n",
       "    }\n",
       "\n",
       "    .dataframe thead th {\n",
       "        text-align: right;\n",
       "    }\n",
       "</style>\n",
       "<table border=\"1\" class=\"dataframe\">\n",
       "  <thead>\n",
       "    <tr style=\"text-align: right;\">\n",
       "      <th></th>\n",
       "      <th>OverallQual</th>\n",
       "      <th>GrLivArea</th>\n",
       "      <th>GarageCars</th>\n",
       "      <th>firstFlrSF</th>\n",
       "      <th>TotalBsmtSF</th>\n",
       "      <th>GarageArea</th>\n",
       "      <th>YearBuilt</th>\n",
       "      <th>BsmtFinSF1</th>\n",
       "      <th>LotArea</th>\n",
       "      <th>GarageType</th>\n",
       "    </tr>\n",
       "  </thead>\n",
       "  <tbody>\n",
       "    <tr>\n",
       "      <th>min</th>\n",
       "      <td>1.0</td>\n",
       "      <td>5.814131</td>\n",
       "      <td>0.0</td>\n",
       "      <td>5.814131</td>\n",
       "      <td>0.000000</td>\n",
       "      <td>0.000000</td>\n",
       "      <td>1872.0</td>\n",
       "      <td>0.000000</td>\n",
       "      <td>7.170888</td>\n",
       "      <td>0.0</td>\n",
       "    </tr>\n",
       "    <tr>\n",
       "      <th>max</th>\n",
       "      <td>10.0</td>\n",
       "      <td>8.638171</td>\n",
       "      <td>4.0</td>\n",
       "      <td>8.453827</td>\n",
       "      <td>8.717846</td>\n",
       "      <td>7.257708</td>\n",
       "      <td>2010.0</td>\n",
       "      <td>8.638525</td>\n",
       "      <td>12.279537</td>\n",
       "      <td>6.0</td>\n",
       "    </tr>\n",
       "  </tbody>\n",
       "</table>\n",
       "</div>"
      ],
      "text/plain": [
       "     OverallQual  GrLivArea  GarageCars  firstFlrSF  TotalBsmtSF  GarageArea  \\\n",
       "min          1.0   5.814131         0.0    5.814131     0.000000    0.000000   \n",
       "max         10.0   8.638171         4.0    8.453827     8.717846    7.257708   \n",
       "\n",
       "     YearBuilt  BsmtFinSF1    LotArea  GarageType  \n",
       "min     1872.0    0.000000   7.170888         0.0  \n",
       "max     2010.0    8.638525  12.279537         6.0  "
      ]
     },
     "execution_count": 181,
     "metadata": {},
     "output_type": "execute_result"
    }
   ],
   "source": [
    "# Testing the finalised SVM Model for individual datapoints\n",
    "df = pd.DataFrame(np.array([[7],[1710],[2],[856],[856],[548],[2003],[706],[84500],[1]]).reshape(1,10),\n",
    "                  columns=['OverallQual', 'GrLivArea', 'GarageCars', 'firstFlrSF', 'TotalBsmtSF',\n",
    "                           'GarageArea', 'YearBuilt','BsmtFinSF1', 'LotArea', 'GarageType'])\n",
    "feature_DEPLOY = train_FINAL.columns\n",
    "# log Tranformation\n",
    "log_tr = [i for i in feature_DEPLOY if i in cont]\n",
    "df[log_tr] = np.log1p(df[log_tr])\n",
    "min_max_train[df.columns]"
   ]
  },
  {
   "cell_type": "code",
   "execution_count": 182,
   "id": "275def86",
   "metadata": {},
   "outputs": [
    {
     "name": "stdout",
     "output_type": "stream",
     "text": [
      "   OverallQual  GrLivArea  GarageCars  firstFlrSF  TotalBsmtSF  GarageArea  \\\n",
      "0     0.666667   0.577436         0.5    0.355839     0.774668    0.869159   \n",
      "\n",
      "   YearBuilt  BsmtFinSF1   LotArea  GarageType  \n",
      "0   0.949275    0.759508  0.816973    0.166667  \n",
      "Predicted Value is:  0.6628945563554356\n",
      "Original value predicted:  267838.60381956486\n",
      "Difference:  -59338.60381956486\n"
     ]
    }
   ],
   "source": [
    "#MinMax Scaling\n",
    "for column in df.columns:\n",
    "    df[column] =  (df[column] - min(min_max_train[column])) / (max(min_max_train[column]) - min(min_max_train[column]))\n",
    "print(df.head(2))\n",
    "pred = model.predict(df)\n",
    "print('Predicted Value is: ',pred[0])\n",
    "orig = np.expm1((pred*(max_SP_train-min_SP_train))+min_SP_train)\n",
    "print('Original value predicted: ',orig[0])\n",
    "# for this entry in data given SalePrice is 208500\n",
    "print('Difference: ',208500-orig[0])"
   ]
  },
  {
   "cell_type": "code",
   "execution_count": 31,
   "id": "19199816",
   "metadata": {},
   "outputs": [],
   "source": [
    "df= pd.read_csv('data.csv')\n",
    "from sklearn.model_selection import train_test_split\n",
    "train, test  = train_test_split(df, test_size=0.2)\n",
    "enc = ['LotShape','LandSlope','ExterQual','ExterCond',\n",
    "            'HeatingQC','KitchenQual',\n",
    "            'BsmtQual','BsmtCond','BsmtExposure','BsmtFinType1','BsmtFinType2',\n",
    "            'CentralAir','Functional','GarageFinish','PavedDrive','PoolQC','Fence',\n",
    "            'FireplaceQu','GarageQual','GarageCond','MSZoning','LandContour',\n",
    "            'Alley','LotConfig','Condition1','Condition2','Foundation','Electrical']\n",
    "features = ['OverallQual', 'GrLivArea', 'TotalBsmtSF', 'GarageCars', 'GarageArea', 'firstFlrSF', 'BsmtFinSF1', 'MSZoning', 'CentralAir', 'OverallCond']\n",
    "enc = [i for i in enc if i in features]\n",
    "nom = ['Street', 'Neighborhood', 'BldgType', 'HouseStyle', 'RoofStyle',\n",
    "                    'RoofMatl', 'Exterior1st', 'Exterior2nd', 'MasVnrType', 'Heating',\n",
    "                    'GarageType', 'MiscFeature', 'SaleType', 'SaleCondition']\n",
    "nom = [i for i in nom if i in features]\n",
    "if nom is None:\n",
    "    print(nom, 'Yes')\n",
    "\n",
    "def load_object(file_path):\n",
    "    import dill\n",
    "    with open(file_path,'rb') as file_obj:\n",
    "        obj = dill.load(file_obj)\n",
    "        return obj\n",
    "    \n",
    "data = load_object('artifacts/min_max_data.pkl')\n",
    "print(data)"
   ]
  },
  {
   "cell_type": "code",
   "execution_count": 183,
   "id": "970b2faf",
   "metadata": {},
   "outputs": [],
   "source": [
    "#Exporting model for Deployment:\n",
    "import pickle\n",
    "pickle.dump(model,open('model.pkl','wb'))"
   ]
  }
 ],
 "metadata": {
  "kernelspec": {
   "display_name": "Python 3 (ipykernel)",
   "language": "python",
   "name": "python3"
  },
  "language_info": {
   "codemirror_mode": {
    "name": "ipython",
    "version": 3
   },
   "file_extension": ".py",
   "mimetype": "text/x-python",
   "name": "python",
   "nbconvert_exporter": "python",
   "pygments_lexer": "ipython3",
   "version": "3.11.4"
  }
 },
 "nbformat": 4,
 "nbformat_minor": 5
}
